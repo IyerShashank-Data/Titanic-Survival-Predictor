{
 "cells": [
  {
   "cell_type": "code",
   "execution_count": 1,
   "id": "60aee4f4-0bfb-4762-b2f1-b9a1fc885bf9",
   "metadata": {},
   "outputs": [],
   "source": [
    "#IMPORTING LIBRARIES\n",
    "\n",
    "import numpy as np\n",
    "import pandas as pd\n",
    "import matplotlib.pyplot as plt\n",
    "import seaborn as sns\n",
    "from sklearn.model_selection import train_test_split \n",
    "from sklearn.preprocessing import LabelEncoder, StandardScaler \n",
    "from sklearn.linear_model import LogisticRegression \n",
    "from sklearn.ensemble import RandomForestClassifier \n",
    "from xgboost import XGBClassifier\n",
    "from sklearn.metrics import accuracy_score, confusion_matrix, classification_report\n"
   ]
  },
  {
   "cell_type": "code",
   "execution_count": 2,
   "id": "31e51237-1266-43c1-be04-302a5db5e8be",
   "metadata": {},
   "outputs": [],
   "source": [
    "# LOADING DATA\n",
    "data=pd.read_csv('https://raw.githubusercontent.com/datasciencedojo/datasets/master/titanic.csv')"
   ]
  },
  {
   "cell_type": "code",
   "execution_count": 3,
   "id": "51a7e4cb-bd3f-4378-80ac-34c1d9596ce5",
   "metadata": {},
   "outputs": [
    {
     "name": "stdout",
     "output_type": "stream",
     "text": [
      "COLUMNS: Index(['PassengerId', 'Survived', 'Pclass', 'Name', 'Sex', 'Age', 'SibSp',\n",
      "       'Parch', 'Ticket', 'Fare', 'Cabin', 'Embarked'],\n",
      "      dtype='object')\n",
      "<class 'pandas.core.frame.DataFrame'>\n",
      "RangeIndex: 891 entries, 0 to 890\n",
      "Data columns (total 12 columns):\n",
      " #   Column       Non-Null Count  Dtype  \n",
      "---  ------       --------------  -----  \n",
      " 0   PassengerId  891 non-null    int64  \n",
      " 1   Survived     891 non-null    int64  \n",
      " 2   Pclass       891 non-null    int64  \n",
      " 3   Name         891 non-null    object \n",
      " 4   Sex          891 non-null    object \n",
      " 5   Age          714 non-null    float64\n",
      " 6   SibSp        891 non-null    int64  \n",
      " 7   Parch        891 non-null    int64  \n",
      " 8   Ticket       891 non-null    object \n",
      " 9   Fare         891 non-null    float64\n",
      " 10  Cabin        204 non-null    object \n",
      " 11  Embarked     889 non-null    object \n",
      "dtypes: float64(2), int64(5), object(5)\n",
      "memory usage: 83.7+ KB\n",
      "OVERVIEW OF DATA: None\n",
      "DESCRIPTIVE STATISTIICS OF DATA:        PassengerId    Survived      Pclass         Age       SibSp  \\\n",
      "count   891.000000  891.000000  891.000000  714.000000  891.000000   \n",
      "mean    446.000000    0.383838    2.308642   29.699118    0.523008   \n",
      "std     257.353842    0.486592    0.836071   14.526497    1.102743   \n",
      "min       1.000000    0.000000    1.000000    0.420000    0.000000   \n",
      "25%     223.500000    0.000000    2.000000   20.125000    0.000000   \n",
      "50%     446.000000    0.000000    3.000000   28.000000    0.000000   \n",
      "75%     668.500000    1.000000    3.000000   38.000000    1.000000   \n",
      "max     891.000000    1.000000    3.000000   80.000000    8.000000   \n",
      "\n",
      "            Parch        Fare  \n",
      "count  891.000000  891.000000  \n",
      "mean     0.381594   32.204208  \n",
      "std      0.806057   49.693429  \n",
      "min      0.000000    0.000000  \n",
      "25%      0.000000    7.910400  \n",
      "50%      0.000000   14.454200  \n",
      "75%      0.000000   31.000000  \n",
      "max      6.000000  512.329200  \n"
     ]
    }
   ],
   "source": [
    "# CHECKING DATA STRUCTURE\n",
    "data.head()\n",
    "print(\"COLUMNS:\",data.columns)\n",
    "print(\"OVERVIEW OF DATA:\",data.info())\n",
    "print(\"DESCRIPTIVE STATISTIICS OF DATA:\",data.describe())"
   ]
  },
  {
   "cell_type": "code",
   "execution_count": 4,
   "id": "8ef87a36-4021-4077-a0a7-de1e61a465ad",
   "metadata": {},
   "outputs": [
    {
     "data": {
      "text/plain": [
       "PassengerId      0\n",
       "Survived         0\n",
       "Pclass           0\n",
       "Name             0\n",
       "Sex              0\n",
       "Age            177\n",
       "SibSp            0\n",
       "Parch            0\n",
       "Ticket           0\n",
       "Fare             0\n",
       "Cabin          687\n",
       "Embarked         2\n",
       "dtype: int64"
      ]
     },
     "execution_count": 4,
     "metadata": {},
     "output_type": "execute_result"
    }
   ],
   "source": [
    "#CHECKING FOR MISSING VALUES\n",
    "data.isnull().sum()"
   ]
  },
  {
   "cell_type": "raw",
   "id": "74b3732f-ee1d-4a8d-ab7f-1a26d9f48f57",
   "metadata": {},
   "source": [
    "Insights:-\n",
    "1.Large Number of missing values for Cabin column\n",
    "2.Decent amount of missing values in Age Column\n",
    "3.Low amount of missing values in Embarked column"
   ]
  },
  {
   "cell_type": "code",
   "execution_count": 5,
   "id": "30aca6c7-7043-488e-a18c-65b99331c5f9",
   "metadata": {},
   "outputs": [],
   "source": [
    "#CLEANING DATA\n",
    "data.drop(['Cabin','Ticket', 'Name'], axis=1,inplace=True,errors='ignore')\n",
    "\n",
    "# Filling missing Ages with median\n",
    "data['Age'] = data['Age'].fillna(data['Age'].median())\n",
    "\n",
    "# Fill Embarked with most common value\n",
    "data['Embarked'] = data['Embarked'].fillna(data['Embarked'].mode()[0])\n"
   ]
  },
  {
   "cell_type": "code",
   "execution_count": 6,
   "id": "3e6ebe7a-83c6-4212-bd7b-65c547e4b34a",
   "metadata": {},
   "outputs": [],
   "source": [
    "data['Sex']=data['Sex'].map({'male':0,'female':1})"
   ]
  },
  {
   "cell_type": "code",
   "execution_count": 7,
   "id": "9cbba6ff-f053-48aa-a668-1a93e22456db",
   "metadata": {},
   "outputs": [
    {
     "name": "stdout",
     "output_type": "stream",
     "text": [
      "<class 'pandas.core.frame.DataFrame'>\n",
      "RangeIndex: 891 entries, 0 to 890\n",
      "Data columns (total 9 columns):\n",
      " #   Column       Non-Null Count  Dtype  \n",
      "---  ------       --------------  -----  \n",
      " 0   PassengerId  891 non-null    int64  \n",
      " 1   Survived     891 non-null    int64  \n",
      " 2   Pclass       891 non-null    int64  \n",
      " 3   Sex          891 non-null    int64  \n",
      " 4   Age          891 non-null    float64\n",
      " 5   SibSp        891 non-null    int64  \n",
      " 6   Parch        891 non-null    int64  \n",
      " 7   Fare         891 non-null    float64\n",
      " 8   Embarked     891 non-null    object \n",
      "dtypes: float64(2), int64(6), object(1)\n",
      "memory usage: 62.8+ KB\n"
     ]
    },
    {
     "data": {
      "text/html": [
       "<div>\n",
       "<style scoped>\n",
       "    .dataframe tbody tr th:only-of-type {\n",
       "        vertical-align: middle;\n",
       "    }\n",
       "\n",
       "    .dataframe tbody tr th {\n",
       "        vertical-align: top;\n",
       "    }\n",
       "\n",
       "    .dataframe thead th {\n",
       "        text-align: right;\n",
       "    }\n",
       "</style>\n",
       "<table border=\"1\" class=\"dataframe\">\n",
       "  <thead>\n",
       "    <tr style=\"text-align: right;\">\n",
       "      <th></th>\n",
       "      <th>PassengerId</th>\n",
       "      <th>Survived</th>\n",
       "      <th>Pclass</th>\n",
       "      <th>Sex</th>\n",
       "      <th>Age</th>\n",
       "      <th>SibSp</th>\n",
       "      <th>Parch</th>\n",
       "      <th>Fare</th>\n",
       "      <th>Embarked</th>\n",
       "    </tr>\n",
       "  </thead>\n",
       "  <tbody>\n",
       "    <tr>\n",
       "      <th>0</th>\n",
       "      <td>1</td>\n",
       "      <td>0</td>\n",
       "      <td>3</td>\n",
       "      <td>0</td>\n",
       "      <td>22.0</td>\n",
       "      <td>1</td>\n",
       "      <td>0</td>\n",
       "      <td>7.2500</td>\n",
       "      <td>S</td>\n",
       "    </tr>\n",
       "    <tr>\n",
       "      <th>1</th>\n",
       "      <td>2</td>\n",
       "      <td>1</td>\n",
       "      <td>1</td>\n",
       "      <td>1</td>\n",
       "      <td>38.0</td>\n",
       "      <td>1</td>\n",
       "      <td>0</td>\n",
       "      <td>71.2833</td>\n",
       "      <td>C</td>\n",
       "    </tr>\n",
       "    <tr>\n",
       "      <th>2</th>\n",
       "      <td>3</td>\n",
       "      <td>1</td>\n",
       "      <td>3</td>\n",
       "      <td>1</td>\n",
       "      <td>26.0</td>\n",
       "      <td>0</td>\n",
       "      <td>0</td>\n",
       "      <td>7.9250</td>\n",
       "      <td>S</td>\n",
       "    </tr>\n",
       "    <tr>\n",
       "      <th>3</th>\n",
       "      <td>4</td>\n",
       "      <td>1</td>\n",
       "      <td>1</td>\n",
       "      <td>1</td>\n",
       "      <td>35.0</td>\n",
       "      <td>1</td>\n",
       "      <td>0</td>\n",
       "      <td>53.1000</td>\n",
       "      <td>S</td>\n",
       "    </tr>\n",
       "    <tr>\n",
       "      <th>4</th>\n",
       "      <td>5</td>\n",
       "      <td>0</td>\n",
       "      <td>3</td>\n",
       "      <td>0</td>\n",
       "      <td>35.0</td>\n",
       "      <td>0</td>\n",
       "      <td>0</td>\n",
       "      <td>8.0500</td>\n",
       "      <td>S</td>\n",
       "    </tr>\n",
       "    <tr>\n",
       "      <th>...</th>\n",
       "      <td>...</td>\n",
       "      <td>...</td>\n",
       "      <td>...</td>\n",
       "      <td>...</td>\n",
       "      <td>...</td>\n",
       "      <td>...</td>\n",
       "      <td>...</td>\n",
       "      <td>...</td>\n",
       "      <td>...</td>\n",
       "    </tr>\n",
       "    <tr>\n",
       "      <th>886</th>\n",
       "      <td>887</td>\n",
       "      <td>0</td>\n",
       "      <td>2</td>\n",
       "      <td>0</td>\n",
       "      <td>27.0</td>\n",
       "      <td>0</td>\n",
       "      <td>0</td>\n",
       "      <td>13.0000</td>\n",
       "      <td>S</td>\n",
       "    </tr>\n",
       "    <tr>\n",
       "      <th>887</th>\n",
       "      <td>888</td>\n",
       "      <td>1</td>\n",
       "      <td>1</td>\n",
       "      <td>1</td>\n",
       "      <td>19.0</td>\n",
       "      <td>0</td>\n",
       "      <td>0</td>\n",
       "      <td>30.0000</td>\n",
       "      <td>S</td>\n",
       "    </tr>\n",
       "    <tr>\n",
       "      <th>888</th>\n",
       "      <td>889</td>\n",
       "      <td>0</td>\n",
       "      <td>3</td>\n",
       "      <td>1</td>\n",
       "      <td>28.0</td>\n",
       "      <td>1</td>\n",
       "      <td>2</td>\n",
       "      <td>23.4500</td>\n",
       "      <td>S</td>\n",
       "    </tr>\n",
       "    <tr>\n",
       "      <th>889</th>\n",
       "      <td>890</td>\n",
       "      <td>1</td>\n",
       "      <td>1</td>\n",
       "      <td>0</td>\n",
       "      <td>26.0</td>\n",
       "      <td>0</td>\n",
       "      <td>0</td>\n",
       "      <td>30.0000</td>\n",
       "      <td>C</td>\n",
       "    </tr>\n",
       "    <tr>\n",
       "      <th>890</th>\n",
       "      <td>891</td>\n",
       "      <td>0</td>\n",
       "      <td>3</td>\n",
       "      <td>0</td>\n",
       "      <td>32.0</td>\n",
       "      <td>0</td>\n",
       "      <td>0</td>\n",
       "      <td>7.7500</td>\n",
       "      <td>Q</td>\n",
       "    </tr>\n",
       "  </tbody>\n",
       "</table>\n",
       "<p>891 rows × 9 columns</p>\n",
       "</div>"
      ],
      "text/plain": [
       "     PassengerId  Survived  Pclass  Sex   Age  SibSp  Parch     Fare Embarked\n",
       "0              1         0       3    0  22.0      1      0   7.2500        S\n",
       "1              2         1       1    1  38.0      1      0  71.2833        C\n",
       "2              3         1       3    1  26.0      0      0   7.9250        S\n",
       "3              4         1       1    1  35.0      1      0  53.1000        S\n",
       "4              5         0       3    0  35.0      0      0   8.0500        S\n",
       "..           ...       ...     ...  ...   ...    ...    ...      ...      ...\n",
       "886          887         0       2    0  27.0      0      0  13.0000        S\n",
       "887          888         1       1    1  19.0      0      0  30.0000        S\n",
       "888          889         0       3    1  28.0      1      2  23.4500        S\n",
       "889          890         1       1    0  26.0      0      0  30.0000        C\n",
       "890          891         0       3    0  32.0      0      0   7.7500        Q\n",
       "\n",
       "[891 rows x 9 columns]"
      ]
     },
     "execution_count": 7,
     "metadata": {},
     "output_type": "execute_result"
    }
   ],
   "source": [
    "data.isnull().sum()\n",
    "data.info()\n",
    "data"
   ]
  },
  {
   "cell_type": "code",
   "execution_count": 8,
   "id": "ab2d9db9-a048-4879-bcb3-8e00bc1067dc",
   "metadata": {},
   "outputs": [],
   "source": [
    "#FEATURE SELECTION\n",
    "y=data['Survived'] #DEPENDENT VARIABLE\n",
    "X = data.drop(['Survived', 'Embarked'], axis=1) #INDEPENDENT VARIABLE"
   ]
  },
  {
   "cell_type": "code",
   "execution_count": 9,
   "id": "d5d148c0-c6ac-4509-ad45-2cfffa6e5eb9",
   "metadata": {},
   "outputs": [],
   "source": [
    "#SPLITTING DATA\n",
    "X_train,X_test,y_train,y_test=train_test_split(X,y,test_size=0.2,random_state=45)"
   ]
  },
  {
   "cell_type": "raw",
   "id": "afe19cf4-655a-4104-ab13-63527d130cb9",
   "metadata": {},
   "source": [
    "CHOOSING CLASSIFIER MODELS\n",
    "WE WILL TRAIN LOGISTIC REGRESSION, RANDOM FOREST AND XGBOOST FOR COMPARISON"
   ]
  },
  {
   "cell_type": "code",
   "execution_count": 10,
   "id": "4ac5a3d0-1c01-4769-8476-0facc473084b",
   "metadata": {},
   "outputs": [],
   "source": [
    "#TRAINING LOGISTIC REGRESSION MODEL\n",
    "log_model=LogisticRegression(max_iter=1000)\n",
    "log_model.fit(X_train,y_train)\n",
    "y_pred_log=log_model.predict(X_test)"
   ]
  },
  {
   "cell_type": "code",
   "execution_count": 11,
   "id": "ac12cd0d-5e7a-43b8-8008-d2a347754654",
   "metadata": {},
   "outputs": [
    {
     "name": "stdout",
     "output_type": "stream",
     "text": [
      "Logistic Regression\n",
      "              precision    recall  f1-score   support\n",
      "\n",
      "           0       0.88      0.87      0.88       117\n",
      "           1       0.76      0.77      0.77        62\n",
      "\n",
      "    accuracy                           0.84       179\n",
      "   macro avg       0.82      0.82      0.82       179\n",
      "weighted avg       0.84      0.84      0.84       179\n",
      "\n"
     ]
    }
   ],
   "source": [
    "#EVALUATING MODEL\n",
    "print(\"Logistic Regression\")\n",
    "print(classification_report(y_test, y_pred_log))"
   ]
  },
  {
   "cell_type": "code",
   "execution_count": 12,
   "id": "997bd03e-8982-48a9-b433-92ca4be76a96",
   "metadata": {},
   "outputs": [],
   "source": [
    "#TRAINING RANDOM FOREST MODEL\n",
    "rf_model = RandomForestClassifier(n_estimators=100, random_state=42)\n",
    "rf_model.fit(X_train, y_train)\n",
    "y_pred_rf = rf_model.predict(X_test)"
   ]
  },
  {
   "cell_type": "code",
   "execution_count": 13,
   "id": "ffd932b9-1399-4815-8d40-0bea2dd9a5cc",
   "metadata": {},
   "outputs": [
    {
     "name": "stdout",
     "output_type": "stream",
     "text": [
      "Random Forest\n",
      "              precision    recall  f1-score   support\n",
      "\n",
      "           0       0.91      0.90      0.90       117\n",
      "           1       0.81      0.82      0.82        62\n",
      "\n",
      "    accuracy                           0.87       179\n",
      "   macro avg       0.86      0.86      0.86       179\n",
      "weighted avg       0.87      0.87      0.87       179\n",
      "\n"
     ]
    }
   ],
   "source": [
    "#EVALUATING MODEL\n",
    "print(\"Random Forest\")\n",
    "print(classification_report(y_test, y_pred_rf))"
   ]
  },
  {
   "cell_type": "code",
   "execution_count": 14,
   "id": "20076ad9-8d9c-4cdd-8084-875e21816213",
   "metadata": {},
   "outputs": [],
   "source": [
    "#TRAINING XGBOOST MODEL\n",
    "xgb_model = XGBClassifier( eval_metric='logloss')\n",
    "xgb_model.fit(X_train, y_train)\n",
    "y_pred_xgb = xgb_model.predict(X_test)"
   ]
  },
  {
   "cell_type": "code",
   "execution_count": 15,
   "id": "7f4aca56-d757-432a-9f61-3efac0ee6051",
   "metadata": {},
   "outputs": [
    {
     "name": "stdout",
     "output_type": "stream",
     "text": [
      "XGBoost\n",
      "              precision    recall  f1-score   support\n",
      "\n",
      "           0       0.91      0.87      0.89       117\n",
      "           1       0.78      0.84      0.81        62\n",
      "\n",
      "    accuracy                           0.86       179\n",
      "   macro avg       0.84      0.86      0.85       179\n",
      "weighted avg       0.86      0.86      0.86       179\n",
      "\n"
     ]
    }
   ],
   "source": [
    "#EVALUATING MODEL\n",
    "print(\"XGBoost\")\n",
    "print(classification_report(y_test, y_pred_xgb))"
   ]
  },
  {
   "cell_type": "raw",
   "id": "915f57a7-93fa-40dc-b764-f9c1a49eab1c",
   "metadata": {},
   "source": [
    "BY COMPARING THE 3 MODELS WE CAN INFER THAT RANDOM FOREST GIVES BEST ACCURACY WHILE PREDICTING SURVIVAL WHEN COMPARED TO XGBOOST OR LOGISTIC REGRESSION"
   ]
  },
  {
   "cell_type": "code",
   "execution_count": 43,
   "id": "94a6ad54-e8f5-44b0-9d26-030601ee86d2",
   "metadata": {},
   "outputs": [
    {
     "data": {
      "image/png": "[encoded data removed]",
      "text/plain": [
       "<Figure size 800x600 with 1 Axes>"
      ]
     },
     "metadata": {},
     "output_type": "display_data"
    }
   ],
   "source": [
    "#Model Explainability\n",
    "importances = rf_model.feature_importances_\n",
    "feature_names = X_train.columns \n",
    "\n",
    "feat_imp = pd.Series(importances, index=feature_names).sort_values(ascending=True)\n",
    "\n",
    "plt.figure(figsize=(8, 6))\n",
    "sns.barplot(x=feat_imp, y=feat_imp.index, hue=feat_imp.index, palette=\"viridis\", legend=False)\n",
    "plt.title(\"Feature Importances from Random Forest\")\n",
    "plt.xlabel(\"Importance\")\n",
    "plt.ylabel(\"Features\")\n",
    "plt.tight_layout()\n",
    "plt.show()"
   ]
  },
  {
   "cell_type": "code",
   "execution_count": 63,
   "id": "87d6276e-255c-4f9b-892d-bc32b454d2bd",
   "metadata": {},
   "outputs": [
    {
     "data": {
      "text/plain": [
       "<Figure size 640x480 with 0 Axes>"
      ]
     },
     "metadata": {},
     "output_type": "display_data"
    },
    {
     "data": {
      "image/png": "[encoded data removed]",
      "text/plain": [
       "<Figure size 1150x660 with 1 Axes>"
      ]
     },
     "metadata": {},
     "output_type": "display_data"
    }
   ],
   "source": [
    "import shap\n",
    "\n",
    "# Initialize the SHAP Tree Explainer\n",
    "explainer = shap.TreeExplainer(rf_model)\n",
    "\n",
    "# Compute SHAP values for the test set\n",
    "shap_values = explainer.shap_values(X_test.values)\n",
    "\n",
    "shap.summary_plot(shap_values,X_test)"
   ]
  },
  {
   "cell_type": "code",
   "execution_count": null,
   "id": "42f40d25-ac77-4ca2-a0fb-a5edf65c5ce5",
   "metadata": {},
   "outputs": [],
   "source": []
  }
 ],
 "metadata": {
  "kernelspec": {
   "display_name": "Python [conda env:base] *",
   "language": "python",
   "name": "conda-base-py"
  },
  "language_info": {
   "codemirror_mode": {
    "name": "ipython",
    "version": 3
   },
   "file_extension": ".py",
   "mimetype": "text/x-python",
   "name": "python",
   "nbconvert_exporter": "python",
   "pygments_lexer": "ipython3",
   "version": "3.12.7"
  }
 },
 "nbformat": 4,
 "nbformat_minor": 5
}
